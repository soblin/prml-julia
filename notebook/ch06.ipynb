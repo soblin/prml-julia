{
 "cells": [
  {
   "cell_type": "code",
   "execution_count": null,
   "id": "young-circus",
   "metadata": {},
   "outputs": [],
   "source": [
    "using Pkg\n",
    "if isfile(\"../Project.toml\") && isfile(\"../Manifest.toml\")\n",
    "    Pkg.activate(\"..\");\n",
    "end\n",
    "\n",
    "using Random\n",
    "using Distributions\n",
    "using Plots\n",
    "using StatsPlots\n",
    "using prml\n",
    "using prml: pdf\n",
    "\n",
    "Random.seed!(1234);\n",
    "rng = MersenneTwister(1234);\n",
    "gr();"
   ]
  },
  {
   "cell_type": "code",
   "execution_count": null,
   "id": "described-billy",
   "metadata": {},
   "outputs": [],
   "source": [
    "function create_toy_data(func, n_samples::Int64, std=1.0, domain=[0.0, 1.0])\n",
    "    x = collect(range(domain[1], domain[2], length=n_samples));\n",
    "    shuffle!(rng, x);\n",
    "    noise = rand(Uniform(-std, std), n_samples);\n",
    "    return x, func.(x) + noise\n",
    "end\n",
    "\n",
    "function sinusoidal(x)\n",
    "    return sin.(2 * pi .* x)\n",
    "end"
   ]
  },
  {
   "cell_type": "markdown",
   "id": "fourth-thing",
   "metadata": {},
   "source": [
    "## 6.1 Dual Representation"
   ]
  },
  {
   "cell_type": "code",
   "execution_count": null,
   "id": "governmental-automation",
   "metadata": {},
   "outputs": [],
   "source": [
    "x_train, y_train = create_toy_data(sinusoidal, 10, 0.2);\n",
    "\n",
    "x_train = reshape(x_train, 1, size(x_train)[1])\n",
    "model = GaussianProcessRegressor(PolynomialKernel(3, 1.0), 1e10)\n",
    "fitting(model, x_train, y_train);\n",
    "\n",
    "x = reshape(collect(range(0.0, 1.0, length=100)), 1, 100);\n",
    "y, y_sigmas = predict(model, x, true)\n",
    "\n",
    "plot(x[1, :], y[1, :], lw=2, color=\"green\", label=\"regression\")\n",
    "plot!(x_train[1, :], y_train, seriestype=\"scatter\", label=\"training\")\n",
    "plot!(x[1, :], sin.(2 * pi .* x[1, :]), lw=2, color=\"red\", label=\"true\")"
   ]
  },
  {
   "cell_type": "markdown",
   "id": "annoying-nurse",
   "metadata": {},
   "source": [
    "### 6.3.1 Nadarya-Watson model\n",
    "\n",
    "Noise added to **input**"
   ]
  },
  {
   "cell_type": "code",
   "execution_count": null,
   "id": "worth-information",
   "metadata": {},
   "outputs": [],
   "source": [
    "function create_toy_data2(func, n_samples::Int64, sigma, domain)\n",
    "    x = collect(range(domain[1], domain[2], length=n_samples));\n",
    "    shuffle!(rng, x);\n",
    "    noise = rand(Normal(0, sigma), n_samples);\n",
    "    return x, func(x + noise)\n",
    "end\n",
    "function g(mu::Float64, sigma2::Float64)\n",
    "    return exp(-0.5 * mu^2 / sigma2) / sqrt(2.0 * pi * sigma2)\n",
    "end\n",
    "\n",
    "N = 10\n",
    "sigma = 0.1\n",
    "sigma2 = sigma^2\n",
    "x_train, y_train = create_toy_data2(sinusoidal, N, sigma, [0.0, 1.0]);\n",
    "x_start = min(0.0, minimum(x_train))\n",
    "x_end = max(1.0, maximum(x_train))\n",
    "x = collect(range(x_start, x_end, length=100))\n",
    "y = zeros(100)\n",
    "y_vars = zeros(100)\n",
    "for i in 1:100\n",
    "    gs = [g(x[i] - x_train[n], sigma2) for n in 1:N]\n",
    "    hs = zeros(N)\n",
    "    for n in 1:N\n",
    "        h_n = gs[n] / sum(gs)\n",
    "        hs[n] = h_n\n",
    "        y[i] += y_train[n] * h_n\n",
    "    end\n",
    "    y_vars[i] = sum([ hs[n] * (y_train[n]^2 + sigma2) for n in 1:N]) - (sum([ hs[n] * y_train[n] for n in 1:N]))^2\n",
    "end\n",
    "\n",
    "y_sigma = sqrt.(y_vars)\n",
    "plot(x, y, ribbon=(y_sigma * 2.0, y_sigma * 2.0), label=\"regression\")\n",
    "plot!(x_train, y_train, seriestype=\"scatter\", label=\"training\")\n",
    "plot!(x, sinusoidal(x), lw=2, label=\"sin\")"
   ]
  },
  {
   "cell_type": "markdown",
   "id": "equivalent-helen",
   "metadata": {},
   "source": [
    "<img src=\"images/ch6/image1.png\">"
   ]
  },
  {
   "cell_type": "markdown",
   "id": "alert-pledge",
   "metadata": {},
   "source": [
    "## 6.4 Gaussian Process"
   ]
  },
  {
   "cell_type": "markdown",
   "id": "micro-speaker",
   "metadata": {},
   "source": [
    "### 6.4.2 Gaussian process for regression"
   ]
  },
  {
   "cell_type": "code",
   "execution_count": null,
   "id": "wicked-cathedral",
   "metadata": {},
   "outputs": [],
   "source": [
    "x_train, y_train = create_toy_data(sinusoidal, 7, 0.1, [0.0, 0.7]);\n",
    "x_train = reshape(x_train, 1, size(x_train)[1])\n",
    "model = GaussianProcessRegressor(RBFKernel([1.0, 15.0]), 100);\n",
    "fitting(model, x_train, y_train)\n",
    "\n",
    "x = reshape(collect(range(0.0, 1.0, length=100)), 1, 100);\n",
    "y, y_sigmas = predict(model, x, true)\n",
    "\n",
    "y_std = sqrt.(reshape(y_sigmas, length(y_sigmas)))\n",
    "plot(x[1, :], y[1, :], ribbon=(y_std, y_std), color=\"green\", label=\"std\")\n",
    "plot!(x_train[1, :], y_train, seriestype=\"scatter\", label=\"training\")\n",
    "plot!(x[1, :], sin.(2 * pi .* x[1, :]), lw=2, color=\"red\", label=\"true\")"
   ]
  },
  {
   "cell_type": "markdown",
   "id": "global-vision",
   "metadata": {},
   "source": [
    "<img src=\"images/ch6/image2.png\">"
   ]
  },
  {
   "cell_type": "markdown",
   "id": "worse-practitioner",
   "metadata": {},
   "source": [
    "### 6.4.3 Learning the hyperparameters"
   ]
  },
  {
   "cell_type": "code",
   "execution_count": null,
   "id": "british-alexander",
   "metadata": {},
   "outputs": [],
   "source": [
    "plots = []\n",
    "x_train, y_train = create_toy_data(sinusoidal, 7, 0.1, [0.0, 0.7]);\n",
    "x_train = reshape(x_train, 1, size(x_train)[1])\n",
    "rbf_kernel = RBFKernel([1.0, 1.0])\n",
    "model = GaussianProcessRegressor(rbf_kernel, 100);\n",
    "fitting(model, x_train, y_train)\n",
    "\n",
    "x = reshape(collect(range(0.0, 1.0, length=100)), 1, 100);\n",
    "y, y_sigmas = predict(model, x, true)\n",
    "\n",
    "y_std = sqrt.(reshape(y_sigmas, length(y_sigmas)))\n",
    "gpr_params = map(x -> round(x, sigdigits=3), rbf_kernel._params)\n",
    "p = plot(x[1, :], y[1, :], ribbon=(y_std, y_std), color=\"green\", label=\"std\", title=\"gpr = $(gpr_params)\")\n",
    "p = plot!(x_train[1, :], y_train, seriestype=\"scatter\", label=\"training\")\n",
    "p = plot!(x[1, :], sin.(2 * pi .* x[1, :]), lw=2, color=\"red\", label=\"true\")\n",
    "push!(plots, p)\n",
    "\n",
    "x_train, y_train = create_toy_data(sinusoidal, 7, 0.1, [0.0, 0.7]);\n",
    "x_train = reshape(x_train, 1, size(x_train)[1])\n",
    "model = GaussianProcessRegressor(rbf_kernel, 100);\n",
    "fitting(model, x_train, y_train, 100)\n",
    "\n",
    "x = reshape(collect(range(0.0, 1.0, length=100)), 1, 100);\n",
    "y, y_sigmas = predict(model, x, true)\n",
    "\n",
    "y_std = sqrt.(reshape(y_sigmas, length(y_sigmas)))\n",
    "gpr_params = map(x -> round(x, sigdigits=3), rbf_kernel._params)\n",
    "p = plot(x[1, :], y[1, :], ribbon=(y_std, y_std), color=\"green\", label=\"std\", title=\"gpr = $(gpr_params)\")\n",
    "p = plot!(x_train[1, :], y_train, seriestype=\"scatter\", label=\"training\")\n",
    "p = plot!(x[1, :], sin.(2 * pi .* x[1, :]), lw=2, color=\"red\", label=\"true\")\n",
    "push!(plots, p)\n",
    "\n",
    "plot(plots[1], plots[2], size=(600, 300))"
   ]
  },
  {
   "cell_type": "markdown",
   "id": "recognized-needle",
   "metadata": {},
   "source": [
    "<img src=\"images/ch6/image3.png\">"
   ]
  },
  {
   "cell_type": "markdown",
   "id": "sticky-coral",
   "metadata": {},
   "source": [
    "### 6.4.4 Automatic relevance determination"
   ]
  },
  {
   "cell_type": "code",
   "execution_count": null,
   "id": "electoral-affiliate",
   "metadata": {},
   "outputs": [],
   "source": [
    "function create_toy_data_3d(func, n_samples, std)\n",
    "    x0 = range(0.0, 1.0, length=n_samples)\n",
    "    x1 = x0 + rand(Normal(0, std), n_samples)\n",
    "    x2 = rand(Normal(0, std), n_samples)\n",
    "    t = func(x0) + rand(Normal(0, std), n_samples)\n",
    "    return vcat(transpose(x0), transpose(x1), transpose(x2)), t\n",
    "end\n",
    "\n",
    "x_train, y_train = create_toy_data_3d(sinusoidal, 20, 0.1)\n",
    "rbf_kernel = RBFKernel([1.0, 1.0, 1.0, 1.0])\n",
    "model = GaussianProcessRegressor(rbf_kernel, 100)\n",
    "\n",
    "max_iter = 0\n",
    "learning_rate = 0.01\n",
    "fitting(model, x_train, y_train, max_iter, learning_rate)\n",
    "\n",
    "plots = []\n",
    "\n",
    "x0 = range(0.0, 1.0, length=100)\n",
    "x1 = x0 + rand(Normal(0, 0.1), 100)\n",
    "x2 = rand(Normal(0, 0.1), 100)\n",
    "x = vcat(transpose(x0), transpose(x1), transpose(x2))\n",
    "y, y_std = predict(model, x, true)\n",
    "y_vars = sqrt.(reshape(y_std, length(y_std)))\n",
    "p = plot(x_train[1, :], y_train, seriestype=\"scatter\", label=\"train\")\n",
    "p = plot!(x[1, :], sinusoidal(x[1, :]), label=\"sin(2 pi x)\")\n",
    "p = plot!(x[1, :], y[1, :], ribbon=(y_vars, y_vars), label=\"gpr\")\n",
    "push!(plots, p)\n",
    "\n",
    "max_iter = 100\n",
    "learning_rate = 0.01\n",
    "fitting(model, x_train, y_train, max_iter, learning_rate)\n",
    "\n",
    "x0 = range(0.0, 1.0, length=100)\n",
    "x1 = x0 + rand(Normal(0, 0.1), 100)\n",
    "x2 = rand(Normal(0, 0.1), 100)\n",
    "x = vcat(transpose(x0), transpose(x1), transpose(x2))\n",
    "y, y_std = predict(model, x, true)\n",
    "y_vars = sqrt.(reshape(y_std, length(y_std)))\n",
    "p = plot(x_train[1, :], y_train, seriestype=\"scatter\", label=\"train\")\n",
    "p = plot!(x[1, :], sinusoidal(x[1, :]), label=\"sin(2 pi x)\")\n",
    "p = plot!(x[1, :], y[1, :], ribbon=(y_vars, y_vars), label=\"gpr\")\n",
    "push!(plots, p)\n",
    "\n",
    "plot(plots[1], plots[2], size=(600, 300))"
   ]
  },
  {
   "cell_type": "markdown",
   "id": "arctic-evaluation",
   "metadata": {},
   "source": [
    "<img src=\"images/ch6/image4.png\">"
   ]
  }
 ],
 "metadata": {
  "kernelspec": {
   "display_name": "Julia 1.6.0",
   "language": "julia",
   "name": "julia-1.6"
  },
  "language_info": {
   "file_extension": ".jl",
   "mimetype": "application/julia",
   "name": "julia",
   "version": "1.6.0"
  }
 },
 "nbformat": 4,
 "nbformat_minor": 5
}
