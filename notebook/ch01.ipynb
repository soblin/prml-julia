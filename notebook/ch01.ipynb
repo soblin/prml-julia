{
 "cells": [
  {
   "cell_type": "code",
   "execution_count": null,
   "metadata": {},
   "outputs": [],
   "source": [
    "using Pkg\n",
    "if isfile(\"../Project.toml\") && isfile(\"../Manifest.toml\")\n",
    "    Pkg.activate(\"..\");\n",
    "end\n",
    "\n",
    "using Random\n",
    "using Distributions\n",
    "using Plots\n",
    "using prml\n",
    "\n",
    "Random.seed!(1234);\n",
    "gr();"
   ]
  },
  {
   "cell_type": "code",
   "execution_count": null,
   "metadata": {},
   "outputs": [],
   "source": [
    "function create_toy_data(func, sample_size, std)\n",
    "    x = collect(range(0, stop=1.0, length=sample_size));\n",
    "    noise = rand(Normal(0.0, std), sample_size);\n",
    "    return x, func(x) + noise\n",
    "end\n",
    "\n",
    "function sinusoidal(x)\n",
    "    return sin.(2 * pi * x)\n",
    "end"
   ]
  },
  {
   "cell_type": "markdown",
   "metadata": {},
   "source": [
    "add some Gaussian noise to the data points generated from sinusoidal function\n",
    "\n",
    "$$\n",
    "y \\sim \\sin(2 \\pi x) + \\mathcal{N}(0, \\sigma^2)\n",
    "$$"
   ]
  },
  {
   "cell_type": "code",
   "execution_count": null,
   "metadata": {},
   "outputs": [],
   "source": [
    "x_train, y_train = create_toy_data(sinusoidal, 10, 0.25);\n",
    "x_test = collect(range(0, stop=1.0, length=100));\n",
    "y_test = sinusoidal(x_test);\n",
    "\n",
    "plot(x_train, y_train, seriestype=:scatter, label=\"training data\", legend=:topright)\n",
    "plot!(x_test, y_test, label=\"sin(2π x)\")"
   ]
  },
  {
   "cell_type": "markdown",
   "metadata": {},
   "source": [
    "<img src=\"images/ch1/image1.png\">"
   ]
  },
  {
   "cell_type": "markdown",
   "metadata": {},
   "source": [
    "We fit the data points with the linear cohesion of polynomial functions\n",
    "\n",
    "$$\n",
    "t_n \\sim \\boldsymbol{\\phi}(x_n) \\boldsymbol{w}.\n",
    "$$\n",
    "\n",
    "The answer is given by\n",
    "\n",
    "$$\n",
    "\\boldsymbol{w} = (\\boldsymbol{\\Phi}^{T} \\boldsymbol{\\Phi})^{-1} \\boldsymbol{\\Phi}^{T} \\boldsymbol{t}\n",
    "$$\n",
    "\n",
    "where $\\boldsymbol{\\Phi}$ is\n",
    "\n",
    "$$\n",
    "\\boldsymbol{\\Phi} = \\begin{bmatrix} \\boldsymbol{\\phi}^{T} (\\boldsymbol{x_1}) \\\\ \\boldsymbol{\\phi}^{T} (\\boldsymbol{x_2}) \\\\ \\vdots \\\\ \\boldsymbol{\\phi}^{T}(\\boldsymbol{x_N}) \\end{bmatrix}\n",
    "$$"
   ]
  },
  {
   "cell_type": "code",
   "execution_count": null,
   "metadata": {},
   "outputs": [],
   "source": [
    "feature = PolynomialFeature(9);\n",
    "X_train = transform(feature, x_train);\n",
    "X_test = transform(feature, x_test);\n",
    "#x = collect(reshape(range(0, stop=1.0, length=10), 10));\n",
    "model = LinearRegressor([0], 0);\n",
    "#Phi = collect(reshape(transpose(X_train), size(X_train)[2], size(X_train)[1]));\n",
    "fitting(model, X_train, y_train);\n",
    "#tmp = collect(reshape(transpose(X_test), size(X_test)[2], size(X_test)[1]));\n",
    "y, y_std = predict(model, X_test, true);"
   ]
  },
  {
   "cell_type": "code",
   "execution_count": null,
   "metadata": {},
   "outputs": [],
   "source": [
    "l = @layout [a b; c d]\n",
    "plots = []\n",
    "for i in [0, 1, 3, 9]\n",
    "    feature = PolynomialFeature(i);\n",
    "    X_train = transform(feature, x_train);\n",
    "    X_test = transform(feature, x_test);\n",
    "    #x = range(0, stop=1.0, length=10);\n",
    "    model = LinearRegressor([0], 0);\n",
    "    fitting(model, X_train, y_train);\n",
    "    y = predict(model, X_test, false);\n",
    "    p = plot(x_test, y, label=\"predicted\", legend=:topright);\n",
    "    p = plot!(x_train, y_train, label=\"train\", seriestype=:scatter);\n",
    "    p = plot!(x_test, y_test, label=\"sin\");\n",
    "    push!(plots, p);\n",
    "end\n",
    "\n",
    "plot(plots[1], plots[2], plots[3], plots[4], layout=l)"
   ]
  },
  {
   "cell_type": "markdown",
   "metadata": {},
   "source": [
    "<img src=\"images/ch1/image2.png\">"
   ]
  },
  {
   "cell_type": "code",
   "execution_count": null,
   "metadata": {},
   "outputs": [],
   "source": [
    "using LinearAlgebra\n",
    "\n",
    "function rmse(a::Array{Float64, 1}, b::Array{Float64, 1})\n",
    "    return sum((b - a).^2) / size(a)[1]\n",
    "end\n",
    "\n",
    "training_errors = [];\n",
    "test_errors = [];\n",
    "\n",
    "for i in 0:10\n",
    "    feature = PolynomialFeature(i);\n",
    "    X_train = transform(feature, x_train);\n",
    "    X_test = transform(feature, x_test);\n",
    "\n",
    "    model = LinearRegressor([0], 0);\n",
    "    fitting(model, X_train, y_train);\n",
    "    y_trained = predict(model, X_train, false);\n",
    "    push!(training_errors, rmse(predict(model, X_train, false), y_train));\n",
    "    push!(test_errors, rmse(predict(model, X_test, false), y_test +  rand(Normal(0.0, 0.25), size(y_test)[1])));\n",
    "end\n",
    "\n",
    "plot(training_errors, xlabel=\"degree\", ylabel=\"RMSE\", lw=2, linecolor=:red, label=\"Training\")\n",
    "plot!(test_errors, lw=2, linecolor=:blue, label=\"Test\")\n",
    "plot!(training_errors, seriestype=:scatter, markercolor=:red, label=nothing)\n",
    "plot!(test_errors, seriestype=:scatter, markercolor=:blue, label=nothing)"
   ]
  },
  {
   "cell_type": "markdown",
   "metadata": {},
   "source": [
    "<img src=\"images/ch1/image3.png\">"
   ]
  }
 ],
 "metadata": {
  "kernelspec": {
   "display_name": "Julia 1.6.0",
   "language": "julia",
   "name": "julia-1.6"
  },
  "language_info": {
   "file_extension": ".jl",
   "mimetype": "application/julia",
   "name": "julia",
   "version": "1.6.0"
  }
 },
 "nbformat": 4,
 "nbformat_minor": 2
}
