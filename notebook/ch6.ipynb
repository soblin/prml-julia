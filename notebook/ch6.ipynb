{
 "cells": [
  {
   "cell_type": "code",
   "execution_count": null,
   "id": "young-circus",
   "metadata": {},
   "outputs": [],
   "source": [
    "using Plots\n",
    "using Random\n",
    "using Distributions\n",
    "\n",
    "Random.seed!(1234);\n",
    "rng = MersenneTwister(1234);\n",
    "gr();\n",
    "\n",
    "include(\"../kernel/kernel.jl\")"
   ]
  },
  {
   "cell_type": "code",
   "execution_count": null,
   "id": "described-billy",
   "metadata": {},
   "outputs": [],
   "source": [
    "function create_toy_data(func, n_samples::Int64, std=1.0, domain=[0.0, 1.0])\n",
    "    x = collect(range(domain[1], domain[2], length=n_samples));\n",
    "    shuffle!(rng, x);\n",
    "    noise = rand(Uniform(-std, std), n_samples);\n",
    "    return x, func.(x) + noise\n",
    "end\n",
    "\n",
    "function sinusoidal(x)\n",
    "    return sin.(2 * pi .* x)\n",
    "end"
   ]
  },
  {
   "cell_type": "markdown",
   "id": "fourth-thing",
   "metadata": {},
   "source": [
    "## 6.1 Dual Representation"
   ]
  },
  {
   "cell_type": "code",
   "execution_count": null,
   "id": "governmental-automation",
   "metadata": {},
   "outputs": [],
   "source": [
    "x_train, y_train = create_toy_data(sinusoidal, 10, 0.2);\n",
    "\n",
    "x_train = reshape(x_train, 1, size(x_train)[1])\n",
    "model = GaussianProcessRegressor(PolynomialKernel(3, 1.0), 1e10)\n",
    "fitting(model, x_train, y_train);\n",
    "\n",
    "x = reshape(collect(range(0.0, 1.0, length=100)), 1, 100);\n",
    "y, y_sigmas = predict(model, x, true)\n",
    "\n",
    "plot(x[1, :], y[1, :], lw=2, color=\"green\", label=\"regression\")\n",
    "plot!(x_train[1, :], y_train, seriestype=\"scatter\", label=\"training\")\n",
    "plot!(x[1, :], sin.(2 * pi .* x[1, :]), lw=2, color=\"red\", label=\"true\")"
   ]
  },
  {
   "cell_type": "markdown",
   "id": "alert-pledge",
   "metadata": {},
   "source": [
    "## 6.4 Gaussian Process"
   ]
  },
  {
   "cell_type": "markdown",
   "id": "micro-speaker",
   "metadata": {},
   "source": [
    "### 6.4.2 Gaussian process for regression"
   ]
  },
  {
   "cell_type": "code",
   "execution_count": null,
   "id": "wicked-cathedral",
   "metadata": {},
   "outputs": [],
   "source": [
    "x_train, y_train = create_toy_data(sinusoidal, 7, 0.1, [0.0, 0.7]);\n",
    "x_train = reshape(x_train, 1, size(x_train)[1])\n",
    "model = GaussianProcessRegressor(RBFKernel([1.0, 15.0]), 100);\n",
    "fitting(model, x_train, y_train)\n",
    "\n",
    "x = reshape(collect(range(0.0, 1.0, length=100)), 1, 100);\n",
    "y, y_sigmas = predict(model, x, true)\n",
    "\n",
    "y_std = sqrt.(reshape(y_sigmas, length(y_sigmas)))\n",
    "plot(x[1, :], y[1, :], ribbon=(y_std, y_std), color=\"green\", label=\"std\")\n",
    "plot!(x_train[1, :], y_train, seriestype=\"scatter\", label=\"training\")\n",
    "plot!(x[1, :], sin.(2 * pi .* x[1, :]), lw=2, color=\"red\", label=\"true\")"
   ]
  },
  {
   "cell_type": "markdown",
   "id": "worse-practitioner",
   "metadata": {},
   "source": [
    "### 6.4.3 Learning the hyperparameters"
   ]
  },
  {
   "cell_type": "code",
   "execution_count": null,
   "id": "british-alexander",
   "metadata": {},
   "outputs": [],
   "source": [
    "plots = []\n",
    "x_train, y_train = create_toy_data(sinusoidal, 7, 0.1, [0.0, 0.7]);\n",
    "x_train = reshape(x_train, 1, size(x_train)[1])\n",
    "rbf_kernel = RBFKernel([1.0, 1.0])\n",
    "model = GaussianProcessRegressor(rbf_kernel, 100);\n",
    "fitting(model, x_train, y_train)\n",
    "\n",
    "x = reshape(collect(range(0.0, 1.0, length=100)), 1, 100);\n",
    "y, y_sigmas = predict(model, x, true)\n",
    "\n",
    "y_std = sqrt.(reshape(y_sigmas, length(y_sigmas)))\n",
    "gpr_params = map(x -> round(x, sigdigits=3), rbf_kernel._params)\n",
    "p = plot(x[1, :], y[1, :], ribbon=(y_std, y_std), color=\"green\", label=\"std\", title=\"gpr = $(gpr_params)\")\n",
    "p = plot!(x_train[1, :], y_train, seriestype=\"scatter\", label=\"training\")\n",
    "p = plot!(x[1, :], sin.(2 * pi .* x[1, :]), lw=2, color=\"red\", label=\"true\")\n",
    "push!(plots, p)\n",
    "\n",
    "x_train, y_train = create_toy_data(sinusoidal, 7, 0.1, [0.0, 0.7]);\n",
    "x_train = reshape(x_train, 1, size(x_train)[1])\n",
    "model = GaussianProcessRegressor(rbf_kernel, 100);\n",
    "fitting(model, x_train, y_train, 100)\n",
    "\n",
    "x = reshape(collect(range(0.0, 1.0, length=100)), 1, 100);\n",
    "y, y_sigmas = predict(model, x, true)\n",
    "\n",
    "y_std = sqrt.(reshape(y_sigmas, length(y_sigmas)))\n",
    "gpr_params = map(x -> round(x, sigdigits=3), rbf_kernel._params)\n",
    "p = plot(x[1, :], y[1, :], ribbon=(y_std, y_std), color=\"green\", label=\"std\", title=\"gpr = $(gpr_params)\")\n",
    "p = plot!(x_train[1, :], y_train, seriestype=\"scatter\", label=\"training\")\n",
    "p = plot!(x[1, :], sin.(2 * pi .* x[1, :]), lw=2, color=\"red\", label=\"true\")\n",
    "push!(plots, p)\n",
    "\n",
    "plot(plots[1], plots[2], size=(600, 300))"
   ]
  },
  {
   "cell_type": "markdown",
   "id": "sticky-coral",
   "metadata": {},
   "source": [
    "### 6.4.4 Automatic relevance determination"
   ]
  },
  {
   "cell_type": "code",
   "execution_count": null,
   "id": "electoral-affiliate",
   "metadata": {},
   "outputs": [],
   "source": [
    "function create_toy_data_3d(func, n_samples, std)\n",
    "    x0 = range(0.0, 1.0, length=n_samples)\n",
    "    x1 = x0 + rand(Normal(0, std), n_samples)\n",
    "    x2 = rand(Normal(0, std), n_samples)\n",
    "    t = func(x0) + rand(Normal(0, std), n_samples)\n",
    "    return vcat(transpose(x0), transpose(x1), transpose(x2)), t\n",
    "end\n",
    "\n",
    "x_train, y_train = create_toy_data_3d(sinusoidal, 20, 0.1)\n",
    "rbf_kernel = RBFKernel([1.0, 1.0, 1.0, 1.0])\n",
    "model = GaussianProcessRegressor(rbf_kernel, 100)\n",
    "\n",
    "max_iter = 100\n",
    "learning_rate = 0.01\n",
    "updates = [copy(rbf_kernel._params)]\n",
    "for i in 1:max_iter\n",
    "    fitting(model, x_train, y_train, 10, learning_rate)\n",
    "    push!(updates, rbf_kernel._params)\n",
    "end\n",
    "\n",
    "params = zeros(size(updates)[1], size(updates[1])[1]);\n",
    "for i in 1:max_iter\n",
    "    params[i, :] = updates[i]\n",
    "end\n",
    "\n",
    "plot(params[:, 1])\n",
    "plot!(params[:, 2])\n",
    "plot!(params[:, 3])"
   ]
  }
 ],
 "metadata": {
  "kernelspec": {
   "display_name": "Julia 1.5.3",
   "language": "julia",
   "name": "julia-1.5"
  },
  "language_info": {
   "file_extension": ".jl",
   "mimetype": "application/julia",
   "name": "julia",
   "version": "1.5.3"
  }
 },
 "nbformat": 4,
 "nbformat_minor": 5
}
